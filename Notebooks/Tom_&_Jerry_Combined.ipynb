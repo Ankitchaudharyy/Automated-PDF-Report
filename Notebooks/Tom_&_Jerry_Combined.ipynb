{
  "nbformat": 4,
  "nbformat_minor": 0,
  "metadata": {
    "colab": {
      "name": "Tom-&-Jerry-Combined.ipynb",
      "provenance": [],
      "mount_file_id": "1cTaw3QrIo2YgbQhNBphgerruKtFwRt8N",
      "authorship_tag": "ABX9TyPa5AzzmC++gH0HJbWQvljt",
      "include_colab_link": true
    },
    "kernelspec": {
      "name": "python3",
      "display_name": "Python 3"
    }
  },
  "cells": [
    {
      "cell_type": "markdown",
      "metadata": {
        "id": "view-in-github",
        "colab_type": "text"
      },
      "source": [
        "<a href=\"https://colab.research.google.com/github/Shubhi3199/Tom-N-Jerry-Emotion-Detection/blob/master/Tom_%26_Jerry_Combined.ipynb\" target=\"_parent\"><img src=\"https://colab.research.google.com/assets/colab-badge.svg\" alt=\"Open In Colab\"/></a>"
      ]
    },
    {
      "cell_type": "markdown",
      "metadata": {
        "id": "FKaXeCBasoko",
        "colab_type": "text"
      },
      "source": [
        "## Path to saved Mask-RCNN model :\n",
        "`/content/drive/My Drive/Mask_RCNN-2.1/logs/characters20200421T1905/mask_rcnn_characters_0049.h5`\n",
        "\n",
        "## Path to saved Emotion-prediction Mobile-netV2-133/244 model:\n",
        "`/content/drive/My Drive/Tom & Jerry Emotion/models/20200504-001719-final-8100-image-trained-model-mobilenetV2.h5`"
      ]
    },
    {
      "cell_type": "code",
      "metadata": {
        "id": "whMAJP6rTqkw",
        "colab_type": "code",
        "colab": {}
      },
      "source": [
        "!pip install tensorflow==1.5.0\n",
        "!pip install 'keras==2.1.6' --force-reinstall\n",
        "!pip3 install scipy==1.1.0 --user"
      ],
      "execution_count": 0,
      "outputs": []
    },
    {
      "cell_type": "code",
      "metadata": {
        "id": "7SREuyGYT-N4",
        "colab_type": "code",
        "outputId": "5d1765e7-417c-4be8-ad6c-46fe3674bbb8",
        "colab": {
          "base_uri": "https://localhost:8080/",
          "height": 34
        }
      },
      "source": [
        "# cd path to Mask_RCNN-2.1 release folder\n",
        "cd /content/drive/My\\ Drive//Mask_RCNN-2.1"
      ],
      "execution_count": 0,
      "outputs": [
        {
          "output_type": "stream",
          "text": [
            "/content/drive/My Drive/Mask_RCNN-2.1\n"
          ],
          "name": "stdout"
        }
      ]
    },
    {
      "cell_type": "code",
      "metadata": {
        "id": "5TQTYLS7UBXO",
        "colab_type": "code",
        "outputId": "bf9e18f3-c7f5-41ac-e615-cd9b0b94cb56",
        "colab": {
          "base_uri": "https://localhost:8080/",
          "height": 275
        }
      },
      "source": [
        "import os\n",
        "import cv2\n",
        "import sys\n",
        "import random\n",
        "import math\n",
        "import re\n",
        "import time\n",
        "import numpy as np\n",
        "import tensorflow as tf\n",
        "import matplotlib\n",
        "import matplotlib.pyplot as plt\n",
        "import matplotlib.patches as patches\n",
        "\n",
        "from PIL import Image\n",
        "from PIL import ImageDraw\n",
        "from PIL import ImageFont\n",
        "\n",
        "\n",
        "# Root directory of the project\n",
        "ROOT_DIR = os.getcwd()\n",
        "print(ROOT_DIR)\n",
        "if ROOT_DIR.endswith(\"samples/characters\"):\n",
        "    # Go up two levels to the repo root\n",
        "    ROOT_DIR = os.path.dirname(os.path.dirname(ROOT_DIR))\n",
        "\n",
        "# Import Mask RCNN\n",
        "sys.path.append(ROOT_DIR)\n",
        "import utils\n",
        "import visualize\n",
        "import config\n",
        "from visualize import display_images\n",
        "import model as modellib\n",
        "from model import log\n",
        "\n",
        "from samples.characters import TomJerry\n",
        "\n",
        "%matplotlib inline \n",
        "\n",
        "# Directory to save logs and trained model\n",
        "MODEL_DIR = os.path.join(ROOT_DIR, \"logs\")\n",
        "\n",
        "# Path to TomJerry trained weights\n",
        "# You can download this file from the Releases page\n",
        "# https://github.com/matterport/Mask_RCNN/releases\n",
        "CHARACTER_WEIGHTS_PATH = \"/content/drive/My Drive/Mask_RCNN-2.1/logs/characters20200417T2109/mask_rcnn_characters_0015.h5\"  # TODO: update this path"
      ],
      "execution_count": 0,
      "outputs": [
        {
          "output_type": "stream",
          "text": [
            "/usr/local/lib/python3.6/dist-packages/tensorflow/python/framework/dtypes.py:493: FutureWarning: Passing (type, 1) or '1type' as a synonym of type is deprecated; in a future version of numpy, it will be understood as (type, (1,)) / '(1,)type'.\n",
            "  _np_qint8 = np.dtype([(\"qint8\", np.int8, 1)])\n",
            "/usr/local/lib/python3.6/dist-packages/tensorflow/python/framework/dtypes.py:494: FutureWarning: Passing (type, 1) or '1type' as a synonym of type is deprecated; in a future version of numpy, it will be understood as (type, (1,)) / '(1,)type'.\n",
            "  _np_quint8 = np.dtype([(\"quint8\", np.uint8, 1)])\n",
            "/usr/local/lib/python3.6/dist-packages/tensorflow/python/framework/dtypes.py:495: FutureWarning: Passing (type, 1) or '1type' as a synonym of type is deprecated; in a future version of numpy, it will be understood as (type, (1,)) / '(1,)type'.\n",
            "  _np_qint16 = np.dtype([(\"qint16\", np.int16, 1)])\n",
            "/usr/local/lib/python3.6/dist-packages/tensorflow/python/framework/dtypes.py:496: FutureWarning: Passing (type, 1) or '1type' as a synonym of type is deprecated; in a future version of numpy, it will be understood as (type, (1,)) / '(1,)type'.\n",
            "  _np_quint16 = np.dtype([(\"quint16\", np.uint16, 1)])\n",
            "/usr/local/lib/python3.6/dist-packages/tensorflow/python/framework/dtypes.py:497: FutureWarning: Passing (type, 1) or '1type' as a synonym of type is deprecated; in a future version of numpy, it will be understood as (type, (1,)) / '(1,)type'.\n",
            "  _np_qint32 = np.dtype([(\"qint32\", np.int32, 1)])\n",
            "/usr/local/lib/python3.6/dist-packages/tensorflow/python/framework/dtypes.py:502: FutureWarning: Passing (type, 1) or '1type' as a synonym of type is deprecated; in a future version of numpy, it will be understood as (type, (1,)) / '(1,)type'.\n",
            "  np_resource = np.dtype([(\"resource\", np.ubyte, 1)])\n"
          ],
          "name": "stderr"
        },
        {
          "output_type": "stream",
          "text": [
            "/content/drive/My Drive/Mask_RCNN-2.1\n"
          ],
          "name": "stdout"
        },
        {
          "output_type": "stream",
          "text": [
            "Using TensorFlow backend.\n"
          ],
          "name": "stderr"
        }
      ]
    },
    {
      "cell_type": "code",
      "metadata": {
        "id": "xjTVVHMXUw0I",
        "colab_type": "code",
        "colab": {}
      },
      "source": [
        "import re\n",
        "def sorted_alphanumeric(data):\n",
        "    convert = lambda text: int(text) if text.isdigit() else text.lower()\n",
        "    alphanum_key = lambda key: [ convert(c) for c in re.split('([0-9]+)', key) ] \n",
        "    return sorted(data, key=alphanum_key)"
      ],
      "execution_count": 0,
      "outputs": []
    },
    {
      "cell_type": "code",
      "metadata": {
        "id": "E0KdIqFBU1IL",
        "colab_type": "code",
        "colab": {}
      },
      "source": [
        "config = TomJerry.CharacterConfig()\n",
        "CHARACTER_DIR = os.path.join(ROOT_DIR, 'json_data')"
      ],
      "execution_count": 0,
      "outputs": []
    },
    {
      "cell_type": "code",
      "metadata": {
        "id": "59Cs1e9lU2Xz",
        "colab_type": "code",
        "outputId": "20c71c32-9c36-425a-c9f9-466bbae768ba",
        "colab": {
          "base_uri": "https://localhost:8080/",
          "height": 816
        }
      },
      "source": [
        "# Override the training configurations with a few\n",
        "# changes for inferencing.\n",
        "class InferenceConfig(config.__class__):\n",
        "    # Run detection on one image at a time\n",
        "    GPU_COUNT = 1\n",
        "    IMAGES_PER_GPU = 1\n",
        "\n",
        "config = InferenceConfig()\n",
        "config.display()"
      ],
      "execution_count": 0,
      "outputs": [
        {
          "output_type": "stream",
          "text": [
            "\n",
            "Configurations:\n",
            "BACKBONE                       resnet101\n",
            "BACKBONE_SHAPES                [[256 256]\n",
            " [128 128]\n",
            " [ 64  64]\n",
            " [ 32  32]\n",
            " [ 16  16]]\n",
            "BACKBONE_STRIDES               [4, 8, 16, 32, 64]\n",
            "BATCH_SIZE                     1\n",
            "BBOX_STD_DEV                   [0.1 0.1 0.2 0.2]\n",
            "DETECTION_MAX_INSTANCES        100\n",
            "DETECTION_MIN_CONFIDENCE       0.9\n",
            "DETECTION_NMS_THRESHOLD        0.3\n",
            "GPU_COUNT                      1\n",
            "IMAGES_PER_GPU                 1\n",
            "IMAGE_MAX_DIM                  1024\n",
            "IMAGE_MIN_DIM                  800\n",
            "IMAGE_PADDING                  True\n",
            "IMAGE_SHAPE                    [1024 1024    3]\n",
            "LEARNING_MOMENTUM              0.9\n",
            "LEARNING_RATE                  0.001\n",
            "MASK_POOL_SIZE                 14\n",
            "MASK_SHAPE                     [28, 28]\n",
            "MAX_GT_INSTANCES               100\n",
            "MEAN_PIXEL                     [123.7 116.8 103.9]\n",
            "MINI_MASK_SHAPE                (56, 56)\n",
            "NAME                           characters\n",
            "NUM_CLASSES                    3\n",
            "POOL_SIZE                      7\n",
            "POST_NMS_ROIS_INFERENCE        1000\n",
            "POST_NMS_ROIS_TRAINING         2000\n",
            "ROI_POSITIVE_RATIO             0.33\n",
            "RPN_ANCHOR_RATIOS              [0.5, 1, 2]\n",
            "RPN_ANCHOR_SCALES              (32, 64, 128, 256, 512)\n",
            "RPN_ANCHOR_STRIDE              1\n",
            "RPN_BBOX_STD_DEV               [0.1 0.1 0.2 0.2]\n",
            "RPN_NMS_THRESHOLD              0.7\n",
            "RPN_TRAIN_ANCHORS_PER_IMAGE    256\n",
            "STEPS_PER_EPOCH                1070\n",
            "TRAIN_ROIS_PER_IMAGE           200\n",
            "USE_MINI_MASK                  True\n",
            "USE_RPN_ROIS                   True\n",
            "VALIDATION_STEPS               50\n",
            "WEIGHT_DECAY                   0.0001\n",
            "\n",
            "\n"
          ],
          "name": "stdout"
        }
      ]
    },
    {
      "cell_type": "code",
      "metadata": {
        "id": "VDUDyAfEU3lQ",
        "colab_type": "code",
        "colab": {}
      },
      "source": [
        "# Device to load the neural network on.\n",
        "# Useful if you're training a model on the same \n",
        "# machine, in which case use CPU and leave the\n",
        "# GPU for training.\n",
        "DEVICE = \"/cpu:0\"  # /cpu:0 or /gpu:0\n",
        "\n",
        "# Inspect the model in training or inference modes\n",
        "# values: 'inference' or 'training'\n",
        "# TODO: code for 'training' test mode not ready yet\n",
        "TEST_MODE = \"inference\""
      ],
      "execution_count": 0,
      "outputs": []
    },
    {
      "cell_type": "code",
      "metadata": {
        "id": "3FDuMIxPU5lm",
        "colab_type": "code",
        "colab": {}
      },
      "source": [
        "def get_ax(rows=1, cols=1, size=16):\n",
        "    \"\"\"Return a Matplotlib Axes array to be used in\n",
        "    all visualizations in the notebook. Provide a\n",
        "    central point to control graph sizes.\n",
        "    \n",
        "    Adjust the size attribute to control how big to render images\n",
        "    \"\"\"\n",
        "    _, ax = plt.subplots(rows, cols, figsize=(size*cols, size*rows))\n",
        "    return ax"
      ],
      "execution_count": 0,
      "outputs": []
    },
    {
      "cell_type": "code",
      "metadata": {
        "id": "PgOKZfsbU9-E",
        "colab_type": "code",
        "colab": {}
      },
      "source": [
        "# Create model in inference mode\n",
        "with tf.device(DEVICE):\n",
        "    model = modellib.MaskRCNN(mode=\"inference\", model_dir=MODEL_DIR,\n",
        "                              config=config)"
      ],
      "execution_count": 0,
      "outputs": []
    },
    {
      "cell_type": "code",
      "metadata": {
        "id": "c3pdS-imU_Lr",
        "colab_type": "code",
        "outputId": "21598134-c667-479e-c1b1-ab808941c772",
        "colab": {
          "base_uri": "https://localhost:8080/",
          "height": 54
        }
      },
      "source": [
        "# Set path to Tom-&-Jerry weights file\n",
        "\n",
        "# Download file from the Releases page and set its path\n",
        "# https://github.com/matterport/Mask_RCNN/releases\n",
        "# weights_path = \"/path/to/mask_rcnn_balloon.h5\"\n",
        "\n",
        "# Or, load the last model you trained\n",
        "weights_path = '/content/drive/My Drive/Mask_RCNN-2.1/logs/characters20200421T1905/mask_rcnn_characters_0049.h5'\n",
        "\n",
        "# Load weights\n",
        "print(\"Loading weights \", weights_path)\n",
        "model.load_weights(weights_path, by_name=True)"
      ],
      "execution_count": 0,
      "outputs": [
        {
          "output_type": "stream",
          "text": [
            "Loading weights  /content/drive/My Drive/Mask_RCNN-2.1/logs/characters20200421T1905/mask_rcnn_characters_0049.h5\n"
          ],
          "name": "stdout"
        }
      ]
    },
    {
      "cell_type": "markdown",
      "metadata": {
        "id": "9O15H5JsrbxA",
        "colab_type": "text"
      },
      "source": [
        "## Use the below cell to extract emotion by a `Video input`"
      ]
    },
    {
      "cell_type": "code",
      "metadata": {
        "id": "ebcPQKlHVAbo",
        "colab_type": "code",
        "colab": {}
      },
      "source": [
        "# Enter the name of the video\n",
        "video_name = 'test_2.mp4'  # update this\n",
        "videoFilePath = '/content/drive/My Drive/Mask_RCNN-2.1/' + video_name\n",
        "saveFolder = '/content/drive/My Drive/Mask_RCNN-2.1/test_folder/'"
      ],
      "execution_count": 0,
      "outputs": []
    },
    {
      "cell_type": "code",
      "metadata": {
        "id": "pvGLfOBsVXzD",
        "colab_type": "code",
        "colab": {}
      },
      "source": [
        "cap = cv2.VideoCapture(videoFilePath)\n",
        "frameRate = cap.get(5)\n",
        "\n",
        "i=0\n",
        "count = 0\n",
        "while(cap.isOpened()):\n",
        "\n",
        "  cap.set(cv2.CAP_PROP_POS_FRAMES, count)\n",
        "\n",
        "  count += math.floor(frameRate)\n",
        "  print(count)\n",
        "\n",
        "  ret, frame = cap.read()\n",
        "  # cv2.imshow('frame',frame)\n",
        "\n",
        "\n",
        "\n",
        "  if (ret != True) or cv2.waitKey(1) & 0xFF == ord('q') or count>=8912:\n",
        "    break\n",
        "\n",
        "  cv2.imwrite(saveFolder+\"frame\"+str(i)+\".jpg\",frame)\n",
        "  i+=1\n",
        "  # if count % math.floor(frameRate) == 0:\n",
        "\n",
        "\n",
        "\n",
        "\n",
        "cap.release()\n",
        "cv2.destroyAllWindows()"
      ],
      "execution_count": 0,
      "outputs": []
    },
    {
      "cell_type": "markdown",
      "metadata": {
        "id": "5JT1wl2art91",
        "colab_type": "text"
      },
      "source": [
        "## To predict emotion by directly giving one/more `Image input` :\n",
        "\n",
        "*directly upload the test image(s) in the folder :*\n",
        "\n",
        "\n",
        "`/content/drive/My Drive/Mask_RCNN-2.1/test_folder/`\n"
      ]
    },
    {
      "cell_type": "code",
      "metadata": {
        "id": "gz-kkG7VVkuC",
        "colab_type": "code",
        "colab": {}
      },
      "source": [
        "global tom_count\n",
        "global jerry_count \n",
        "tom_count = 0\n",
        "jerry_count = 0"
      ],
      "execution_count": 0,
      "outputs": []
    },
    {
      "cell_type": "code",
      "metadata": {
        "id": "1q5VX_HKV9ZO",
        "colab_type": "code",
        "colab": {}
      },
      "source": [
        "# function to check for image aspect ratio\n",
        "from PIL import Image\n",
        "\n",
        "def make_square(im, min_size=256, fill_color=(0, 0, 0, 255)):\n",
        "    '''\n",
        "    function to check for image aspect ratio\n",
        "    Input - im: Image in PIL Image format.\n",
        "    '''\n",
        "    x, y = im.size\n",
        "    min_size = max(x, y)\n",
        "    size = max(min_size, x, y)\n",
        "    new_im = Image.new('RGBA', (size, size), fill_color)\n",
        "    new_im.paste(im, (int((size - x) / 2), int((size - y) / 2)))\n",
        "    return new_im"
      ],
      "execution_count": 0,
      "outputs": []
    },
    {
      "cell_type": "code",
      "metadata": {
        "id": "2--Cca18WBxW",
        "colab_type": "code",
        "colab": {}
      },
      "source": [
        "# Function that returns a dictionary of class_ids as indexes and list of scores for the corresponding class_ids as values\n",
        "def get_class_id_score_dict(class_ids, scores):\n",
        "\n",
        "  '''Function that returns a dictionary of class_ids as indexes and list of \n",
        "     scores for the corresponding class_ids as values'''\n",
        "\n",
        "  id_score_tuple_list = []\n",
        "  for id, score in zip(class_ids, scores):\n",
        "    id_score_tuple_list.append((id, score))\n",
        "  \n",
        "  from collections import defaultdict\n",
        "  d1=defaultdict(list)\n",
        "  for k,v in id_score_tuple_list:\n",
        "    d1[k].append(v)\n",
        "  d1 = dict(d1)\n",
        "  return d1"
      ],
      "execution_count": 0,
      "outputs": []
    },
    {
      "cell_type": "code",
      "metadata": {
        "id": "xpLxhQSqWG1S",
        "colab_type": "code",
        "colab": {}
      },
      "source": [
        "# Classifer Function that returns the mask array of specificly Tom else Jerry else Unknown\n",
        "def get_specific_mask(bbox, masks,  dictionary, class_ids_arr, image, image_name):\n",
        "\n",
        "  '''\n",
        "  Classifer Function that returns the mask array of specificly Tom else Jerry \n",
        "  else Unknown.\n",
        "\n",
        "  Input: \n",
        "  masks - Array of all masks returned by detect function in model.py\n",
        "  dictionary - dict of class_ids and their respective scores\n",
        "\n",
        "  Returns: \n",
        "  Returns Array of either tom's mask if found else jerry's mask and if neither \n",
        "  of the above two is passed then returns unknown.\n",
        "  '''\n",
        "  path_to_save_face_black = '/content/drive/My Drive/Mask_RCNN-2.1/extracted_test_images/'\n",
        "  global tom_count\n",
        "  global jerry_count\n",
        "\n",
        "  class_ids_array = class_ids_arr\n",
        "\n",
        "  if 1 in dictionary:\n",
        "    tom_count += 1\n",
        "    final_tom_index, = np.where(class_ids_array == 1)\n",
        "    final_tom_index2 = final_tom_index[0]\n",
        "    tom_mask =  masks[:,:,final_tom_index2]\n",
        "    big_frame_tom_mask = get_mask(tom_mask, image)\n",
        "\n",
        "    [y1, x1, y2, x2] = bbox[final_tom_index2]\n",
        "\n",
        "    crop_image_black = big_frame_tom_mask[y1:y2, x1:x2]\n",
        "\n",
        "    pil_crop_image_black = Image.fromarray(crop_image_black)\n",
        "    new_image = make_square(pil_crop_image_black)\n",
        "    new_image = np.array(new_image)\n",
        "    resized_image = cv2.resize(new_image, (256, 256), \n",
        "                           interpolation=cv2.INTER_NEAREST)\n",
        "    crop_image_black = cv2.cvtColor(resized_image, cv2.COLOR_BGR2RGB)\n",
        "\n",
        "    cv2.imwrite(path_to_save_face_black +  os.path.splitext(image_name)[0] + '_tom' + '.png', crop_image_black)\n",
        "    # print(f'Tom cropped face saved! at {tom_count}.png')\n",
        "\n",
        "  elif 2 in dictionary:\n",
        "    jerry_count += 1\n",
        "    final_jerry_index, = np.where(class_ids_array == 2)\n",
        "    final_jerry_index2 = final_jerry_index[0]\n",
        "    jerry_mask =  masks[:,:,final_jerry_index2]\n",
        "    big_frame_jerry_mask = get_mask(jerry_mask, image)\n",
        "\n",
        "    [y1, x1, y2, x2] = bbox[final_jerry_index2]\n",
        "\n",
        "    crop_image_black = big_frame_jerry_mask[y1:y2, x1:x2]\n",
        "\n",
        "    pil_crop_image_black = Image.fromarray(crop_image_black)\n",
        "    new_image = make_square(pil_crop_image_black)\n",
        "    new_image = np.array(new_image)\n",
        "    resized_image = cv2.resize(new_image, (256, 256), \n",
        "                           interpolation=cv2.INTER_NEAREST)\n",
        "    crop_image_black = cv2.cvtColor(resized_image, cv2.COLOR_BGR2RGB)\n",
        "\n",
        "    cv2.imwrite(path_to_save_face_black +  os.path.splitext(image_name)[0] + '_jerry' + '.png', crop_image_black)\n",
        "    # print(f'Jerry cropped face saved! at {jerry_count}.png')\n",
        "\n",
        "  else:\n",
        "    \n",
        "    img = np.zeros((256,256,3), np.uint8)\n",
        "    cv2.imwrite(path_to_save_face_black + os.path.splitext(image_name)[0] + '_unknown' + '.png', img)"
      ],
      "execution_count": 0,
      "outputs": []
    },
    {
      "cell_type": "code",
      "metadata": {
        "id": "KBI1VviPWN9A",
        "colab_type": "code",
        "colab": {}
      },
      "source": [
        "# Function to return masks generated of the same size as that of original image \n",
        "def get_mask(specific_mask_array, image):\n",
        "  '''\n",
        "  Function to return masks generated of the same size as that of original image\n",
        "  Input:  specific_mask_array generated by get_specific_mask() function \n",
        "  '''\n",
        "  temp = image\n",
        "  temp = np.array(temp)\n",
        "  for j in range(temp.shape[2]):\n",
        "      temp[:,:,j] = temp[:,:,j] * specific_mask_array\n",
        "  # plt.figure(figsize=(8,8))\n",
        "  # print(type(temp))\n",
        "  # plt.imshow(temp);\n",
        "  return temp\n"
      ],
      "execution_count": 0,
      "outputs": []
    },
    {
      "cell_type": "code",
      "metadata": {
        "id": "Bl_ldkr2V4y3",
        "colab_type": "code",
        "colab": {}
      },
      "source": [
        "# Function to load all images and detect tom/jerry get the mask resize it and then finally save the images to generate data for emotion prediction model\n",
        "def detect_crop_save(root_folder_path):\n",
        "\n",
        "  '''\n",
        "  Function to load all images and detect tom/jerry get the mask resize it and \n",
        "  then finally save the images to generate data for emotion prediction model\n",
        "  '''\n",
        "  # for frame_folder in os.listdir(root_folder_path):\n",
        "  #   print('\\n')\n",
        "  #   print(f'Extracting images from folder: {frame_folder} \\n')\n",
        "  #   frame_folder_path = os.path.join(root_folder_path, frame_folder)\n",
        "  #   image_count = 0\n",
        "    # total_image_count = len(os.listdir(frame_folder_path))\n",
        "  for image in sorted_alphanumeric(os.listdir(root_folder_path)):\n",
        "    # image_count += 1\n",
        "    # print(f'Processing {image_count}/{total_image_count} image!')\n",
        "    image_path = os.path.join(root_folder_path, image)\n",
        "\n",
        "    image2 = cv2.imread(image_path)\n",
        "    image2 = np.array(image2)\n",
        "    image2 = cv2.cvtColor(image2, cv2.COLOR_BGR2RGB)\n",
        "    image2.astype(np.float32)\n",
        "    \n",
        "    image7, window, scale, padding = utils.resize_image(\n",
        "          image2,\n",
        "          min_dim=config.IMAGE_MIN_DIM,\n",
        "          max_dim=config.IMAGE_MAX_DIM,\n",
        "          padding=config.IMAGE_PADDING)\n",
        "    # Detect objects\n",
        "    # print(image3.shape)\n",
        "    image7 = np.array(image7)\n",
        "    r = model.detect([image7])[0]\n",
        "\n",
        "\n",
        "    dictionary = get_class_id_score_dict(r['class_ids'], r['scores'])\n",
        "    # print(f'Image Path: {image_path}')\n",
        "    # print(r['class_ids'])\n",
        "    # print(dictionary)\n",
        "\n",
        "    get_specific_mask(r['rois'], r['masks'], dictionary, r['class_ids'], image7, image)\n",
        "    #bbox, masks,  dictionary, class_ids_arr, image, image_name\n",
        "    # get_all_bbox_and_save(r['rois'], r['masks'], dictionary, r['class_ids'], image7)\n",
        "    # get_all_masks_and_save(r['masks'], dictionary, r['class_ids'], image7)"
      ],
      "execution_count": 0,
      "outputs": []
    },
    {
      "cell_type": "code",
      "metadata": {
        "id": "1Jl1JLZwWC96",
        "colab_type": "code",
        "colab": {}
      },
      "source": [
        "def get_all_bbox_and_save(bbox, masks,  dictionary, class_ids_arr, image):\n",
        "\n",
        "  '''\n",
        "  Function that does everything.\n",
        "  Input: bbox = r['rois'], bbox coordinates,\n",
        "         masks = r['masks'] masks array,\n",
        "         dictionary = dict containing info of class with their scores,\n",
        "         class_ids_arr = [1 2],\n",
        "         image = Original Image (1024*1024)\n",
        "\n",
        "   Returns: Saves the Tom/Jerry cropped-resized (264*264) mask in their \n",
        "            respected Folders.   \n",
        "  '''\n",
        "\n",
        "  path_to_save_tom_face = '/content/drive/My Drive/Mask_RCNN-2.1/extracted_images/tom/'\n",
        "  path_to_save_jerry_face = '/content/drive/My Drive/Mask_RCNN-2.1/extracted_images/jerry/'\n",
        "\n",
        "  path_to_save_tom_face_black = '/content/drive/My Drive/Mask_RCNN-2.1/extracted_images/tom_black/'\n",
        "  path_to_save_jerry_face_black = '/content/drive/My Drive/Mask_RCNN-2.1/extracted_images/jerry_black/'\n",
        "\n",
        "  global tom_count\n",
        "  global jerry_count\n",
        "\n",
        "  class_ids_array = class_ids_arr\n",
        "\n",
        "  if 1 in dictionary:\n",
        "    tom_count += 1\n",
        "    final_tom_index, = np.where(class_ids_array == 1)\n",
        "    final_tom_index2 = final_tom_index[0]\n",
        "    tom_mask =  masks[:,:,final_tom_index2]\n",
        "    big_frame_tom_mask = get_mask(tom_mask, image)\n",
        "\n",
        "    # [y1, x1, y2, x2] = bbox[0]\n",
        "    [y1, x1, y2, x2] = bbox[final_tom_index2]\n",
        "\n",
        "    crop_img = image[y1:y2, x1:x2]\n",
        "\n",
        "    pil_crop_image = Image.fromarray(crop_img)\n",
        "    new_image = make_square(pil_crop_image)\n",
        "    new_image = np.array(new_image)\n",
        "    resized_image = cv2.resize(new_image, (256, 256), \n",
        "                           interpolation=cv2.INTER_NEAREST)\n",
        "    crop_img = cv2.cvtColor(resized_image, cv2.COLOR_BGR2RGB)\n",
        "\n",
        "    crop_image_black = big_frame_tom_mask[y1:y2, x1:x2]\n",
        "\n",
        "    pil_crop_image_black = Image.fromarray(crop_image_black)\n",
        "    new_image = make_square(pil_crop_image_black)\n",
        "    new_image = np.array(new_image)\n",
        "    resized_image = cv2.resize(new_image, (256, 256), \n",
        "                           interpolation=cv2.INTER_NEAREST)\n",
        "    crop_image_black = cv2.cvtColor(resized_image, cv2.COLOR_BGR2RGB)\n",
        "\n",
        "    cv2.imwrite(path_to_save_tom_face +  str(tom_count) + '.png', crop_img)\n",
        "    cv2.imwrite(path_to_save_tom_face_black +  str(tom_count) + '.png', crop_image_black)\n",
        "    print(f'Tom cropped face saved! at {tom_count}.png')\n",
        "\n",
        "  if 2 in dictionary:\n",
        "    jerry_count += 1\n",
        "    final_jerry_index, = np.where(class_ids_array == 2)\n",
        "    final_jerry_index2 = final_jerry_index[0]\n",
        "    jerry_mask =  masks[:,:,final_jerry_index2]\n",
        "    big_frame_jerry_mask = get_mask(jerry_mask, image)\n",
        "\n",
        "    # [y1, x1, y2, x2] = bbox[0]\n",
        "    [y1, x1, y2, x2] = bbox[final_jerry_index2]\n",
        "\n",
        "    crop_img = image[y1:y2, x1:x2]\n",
        "\n",
        "    pil_crop_image = Image.fromarray(crop_img)\n",
        "    new_image = make_square(pil_crop_image)\n",
        "    new_image = np.array(new_image)\n",
        "    resized_image = cv2.resize(new_image, (256, 256), \n",
        "                           interpolation=cv2.INTER_NEAREST)\n",
        "    crop_img = cv2.cvtColor(resized_image, cv2.COLOR_BGR2RGB)\n",
        "\n",
        "    crop_image_black = big_frame_jerry_mask[y1:y2, x1:x2]\n",
        "\n",
        "    pil_crop_image_black = Image.fromarray(crop_image_black)\n",
        "    new_image = make_square(pil_crop_image_black)\n",
        "    new_image = np.array(new_image)\n",
        "    resized_image = cv2.resize(new_image, (256, 256), \n",
        "                           interpolation=cv2.INTER_NEAREST)\n",
        "    crop_image_black = cv2.cvtColor(resized_image, cv2.COLOR_BGR2RGB)\n",
        "\n",
        "    cv2.imwrite(path_to_save_jerry_face +  str(jerry_count) + '.png', crop_img)\n",
        "    cv2.imwrite(path_to_save_jerry_face_black +  str(jerry_count) + '.png', crop_image_black)\n",
        "    print(f'Jerry cropped face saved! at {jerry_count}.png')\n",
        "  \n",
        "  print('\\n')"
      ],
      "execution_count": 0,
      "outputs": []
    },
    {
      "cell_type": "code",
      "metadata": {
        "id": "nwJ106PFW5-n",
        "colab_type": "code",
        "colab": {}
      },
      "source": [
        "# get the masks of both tom and jerry is available and save iy in extracted_images directory for creating dataset for emotion prediction model\n",
        "def get_all_masks_and_save(masks, dictionary, class_ids_arr, image):\n",
        "  '''\n",
        "  get the masks of both tom and jerry is available and save iy in extracted_images\n",
        "  directory for creating dataset for emotion prediction model\n",
        "  '''\n",
        "  path_to_save_tom_face = '/content/drive/My Drive/Mask_RCNN-2.1/extracted_images/tom/'\n",
        "  path_to_save_jerry_face = '/content/drive/My Drive/Mask_RCNN-2.1/extracted_images/jerry/'\n",
        "\n",
        "  global tom_count\n",
        "  global jerry_count\n",
        "  class_ids_array = class_ids_arr\n",
        "  if 1 in dictionary:\n",
        "    tom_count += 1\n",
        "    # Found Tom Mask in the image\n",
        "    # Get the max score index if more than 1 toms are detected\n",
        "\n",
        "    # tom_max_score_index = np.array(dictionary[1]).argmax()\n",
        "    # # final_tom_index = np.array(dictionary[1]).argmax()\n",
        "    # if 2 in dictionary:\n",
        "    #   final_tom_index = len(dictionary[2]) + tom_max_score_index\n",
        "    # else:\n",
        "    #   final_tom_index = tom_max_score_index  \n",
        "    final_tom_index, = np.where(class_ids_array == 1)\n",
        "    # # Generate mask for Tom\n",
        "    final_tom_index2 = final_tom_index[0]\n",
        "    tom_mask =  masks[:,:,final_tom_index2]\n",
        "    # return tom_mask\n",
        "    big_frame_tom_mask = get_mask(tom_mask, image)\n",
        "    crop_mask(big_frame_tom_mask, path_to_save_tom_face +  str(tom_count) + '.png')\n",
        "\n",
        "  if 2 in dictionary:\n",
        "    jerry_count += 1\n",
        "    # Found Jerry Mask in the image\n",
        "    # Get the max score index if more than 1 Jerrys are detected\n",
        "    # final_jerry_index = np.array(dictionary[2]).argmax()\n",
        "    final_jerry_index, = np.where(class_ids_array == 2)\n",
        "    # Generate mask for Jerry\n",
        "    final_jerry_index2 = final_jerry_index[0]\n",
        "    jerry_mask =  masks[:,:,final_jerry_index2]\n",
        "    big_frame_jerry_mask = get_mask(jerry_mask, image)\n",
        "    crop_mask(big_frame_jerry_mask, path_to_save_jerry_face + str(jerry_count) + '.png')"
      ],
      "execution_count": 0,
      "outputs": []
    },
    {
      "cell_type": "markdown",
      "metadata": {
        "id": "61dhPDx7uADX",
        "colab_type": "text"
      },
      "source": [
        "## Run the below cell to get the segmented face masks (tom prioritised)\n",
        "*Input Source Folder:* `/content/drive/My Drive/Mask_RCNN-2.1/test_folder`\n",
        "\n",
        "*Destination save Folder:* `/content/drive/My Drive/Mask_RCNN-2.1/extracted_test_images/` "
      ]
    },
    {
      "cell_type": "code",
      "metadata": {
        "id": "qVugE130tyys",
        "colab_type": "code",
        "colab": {}
      },
      "source": [
        " detect_crop_save('/content/drive/My Drive/Mask_RCNN-2.1/test_folder')"
      ],
      "execution_count": 0,
      "outputs": []
    },
    {
      "cell_type": "markdown",
      "metadata": {
        "id": "iNq0vK6wYAzd",
        "colab_type": "text"
      },
      "source": [
        "# Emotion-Prediction Model"
      ]
    },
    {
      "cell_type": "code",
      "metadata": {
        "id": "qWZQn_9Si6nI",
        "colab_type": "code",
        "outputId": "5f9423d7-d308-4172-f94b-2a4480d6a8d6",
        "colab": {
          "base_uri": "https://localhost:8080/",
          "height": 1000
        }
      },
      "source": [
        "!pip install --upgrade tensorflow\n",
        "!pip install --upgrade keras==2.3.1\n",
        "!pip install --upgrade html5lib bleach six PyYAML"
      ],
      "execution_count": 0,
      "outputs": [
        {
          "output_type": "stream",
          "text": [
            "Requirement already up-to-date: tensorflow in /usr/local/lib/python3.6/dist-packages (2.2.0rc3)\n",
            "Requirement already satisfied, skipping upgrade: google-pasta>=0.1.8 in /usr/local/lib/python3.6/dist-packages (from tensorflow) (0.2.0)\n",
            "Collecting tensorboard<2.3.0,>=2.2.0\n",
            "\u001b[?25l  Downloading https://files.pythonhosted.org/packages/1d/fd/4f3ca1516cbb3713259ef229abd9314bba0077ef6070285dde0dd1ed21b2/tensorboard-2.2.1-py3-none-any.whl (3.0MB)\n",
            "\u001b[K     |████████████████████████████████| 3.0MB 3.4MB/s \n",
            "\u001b[?25hRequirement already satisfied, skipping upgrade: h5py<2.11.0,>=2.10.0 in /usr/local/lib/python3.6/dist-packages (from tensorflow) (2.10.0)\n",
            "Requirement already satisfied, skipping upgrade: gast==0.3.3 in /usr/local/lib/python3.6/dist-packages (from tensorflow) (0.3.3)\n",
            "Requirement already satisfied, skipping upgrade: numpy<2.0,>=1.16.0 in /usr/local/lib/python3.6/dist-packages (from tensorflow) (1.18.3)\n",
            "Requirement already satisfied, skipping upgrade: grpcio>=1.8.6 in /usr/local/lib/python3.6/dist-packages (from tensorflow) (1.28.1)\n",
            "Requirement already satisfied, skipping upgrade: scipy==1.4.1; python_version >= \"3\" in /usr/local/lib/python3.6/dist-packages (from tensorflow) (1.4.1)\n",
            "Requirement already satisfied, skipping upgrade: protobuf>=3.8.0 in /usr/local/lib/python3.6/dist-packages (from tensorflow) (3.10.0)\n",
            "Requirement already satisfied, skipping upgrade: tensorflow-estimator<2.3.0,>=2.2.0rc0 in /usr/local/lib/python3.6/dist-packages (from tensorflow) (2.2.0)\n",
            "Requirement already satisfied, skipping upgrade: wheel>=0.26; python_version >= \"3\" in /usr/local/lib/python3.6/dist-packages (from tensorflow) (0.34.2)\n",
            "Requirement already satisfied, skipping upgrade: opt-einsum>=2.3.2 in /usr/local/lib/python3.6/dist-packages (from tensorflow) (3.2.1)\n",
            "Requirement already satisfied, skipping upgrade: astunparse==1.6.3 in /usr/local/lib/python3.6/dist-packages (from tensorflow) (1.6.3)\n",
            "Requirement already satisfied, skipping upgrade: keras-preprocessing>=1.1.0 in /usr/local/lib/python3.6/dist-packages (from tensorflow) (1.1.0)\n",
            "Requirement already satisfied, skipping upgrade: six>=1.12.0 in /usr/local/lib/python3.6/dist-packages (from tensorflow) (1.14.0)\n",
            "Requirement already satisfied, skipping upgrade: termcolor>=1.1.0 in /usr/local/lib/python3.6/dist-packages (from tensorflow) (1.1.0)\n",
            "Requirement already satisfied, skipping upgrade: absl-py>=0.7.0 in /usr/local/lib/python3.6/dist-packages (from tensorflow) (0.9.0)\n",
            "Requirement already satisfied, skipping upgrade: wrapt>=1.11.1 in /usr/local/lib/python3.6/dist-packages (from tensorflow) (1.12.1)\n",
            "Requirement already satisfied, skipping upgrade: google-auth-oauthlib<0.5,>=0.4.1 in /usr/local/lib/python3.6/dist-packages (from tensorboard<2.3.0,>=2.2.0->tensorflow) (0.4.1)\n",
            "Requirement already satisfied, skipping upgrade: google-auth<2,>=1.6.3 in /usr/local/lib/python3.6/dist-packages (from tensorboard<2.3.0,>=2.2.0->tensorflow) (1.7.2)\n",
            "Requirement already satisfied, skipping upgrade: tensorboard-plugin-wit>=1.6.0 in /usr/local/lib/python3.6/dist-packages (from tensorboard<2.3.0,>=2.2.0->tensorflow) (1.6.0.post3)\n",
            "Requirement already satisfied, skipping upgrade: setuptools>=41.0.0 in /usr/local/lib/python3.6/dist-packages (from tensorboard<2.3.0,>=2.2.0->tensorflow) (46.1.3)\n",
            "Requirement already satisfied, skipping upgrade: werkzeug>=0.11.15 in /usr/local/lib/python3.6/dist-packages (from tensorboard<2.3.0,>=2.2.0->tensorflow) (1.0.1)\n",
            "Requirement already satisfied, skipping upgrade: markdown>=2.6.8 in /usr/local/lib/python3.6/dist-packages (from tensorboard<2.3.0,>=2.2.0->tensorflow) (3.2.1)\n",
            "Requirement already satisfied, skipping upgrade: requests<3,>=2.21.0 in /usr/local/lib/python3.6/dist-packages (from tensorboard<2.3.0,>=2.2.0->tensorflow) (2.23.0)\n",
            "Requirement already satisfied, skipping upgrade: requests-oauthlib>=0.7.0 in /usr/local/lib/python3.6/dist-packages (from google-auth-oauthlib<0.5,>=0.4.1->tensorboard<2.3.0,>=2.2.0->tensorflow) (1.3.0)\n",
            "Requirement already satisfied, skipping upgrade: pyasn1-modules>=0.2.1 in /usr/local/lib/python3.6/dist-packages (from google-auth<2,>=1.6.3->tensorboard<2.3.0,>=2.2.0->tensorflow) (0.2.8)\n",
            "Requirement already satisfied, skipping upgrade: rsa<4.1,>=3.1.4 in /usr/local/lib/python3.6/dist-packages (from google-auth<2,>=1.6.3->tensorboard<2.3.0,>=2.2.0->tensorflow) (4.0)\n",
            "Requirement already satisfied, skipping upgrade: cachetools<3.2,>=2.0.0 in /usr/local/lib/python3.6/dist-packages (from google-auth<2,>=1.6.3->tensorboard<2.3.0,>=2.2.0->tensorflow) (3.1.1)\n",
            "Requirement already satisfied, skipping upgrade: chardet<4,>=3.0.2 in /usr/local/lib/python3.6/dist-packages (from requests<3,>=2.21.0->tensorboard<2.3.0,>=2.2.0->tensorflow) (3.0.4)\n",
            "Requirement already satisfied, skipping upgrade: certifi>=2017.4.17 in /usr/local/lib/python3.6/dist-packages (from requests<3,>=2.21.0->tensorboard<2.3.0,>=2.2.0->tensorflow) (2020.4.5.1)\n",
            "Requirement already satisfied, skipping upgrade: idna<3,>=2.5 in /usr/local/lib/python3.6/dist-packages (from requests<3,>=2.21.0->tensorboard<2.3.0,>=2.2.0->tensorflow) (2.9)\n",
            "Requirement already satisfied, skipping upgrade: urllib3!=1.25.0,!=1.25.1,<1.26,>=1.21.1 in /usr/local/lib/python3.6/dist-packages (from requests<3,>=2.21.0->tensorboard<2.3.0,>=2.2.0->tensorflow) (1.24.3)\n",
            "Requirement already satisfied, skipping upgrade: oauthlib>=3.0.0 in /usr/local/lib/python3.6/dist-packages (from requests-oauthlib>=0.7.0->google-auth-oauthlib<0.5,>=0.4.1->tensorboard<2.3.0,>=2.2.0->tensorflow) (3.1.0)\n",
            "Requirement already satisfied, skipping upgrade: pyasn1<0.5.0,>=0.4.6 in /usr/local/lib/python3.6/dist-packages (from pyasn1-modules>=0.2.1->google-auth<2,>=1.6.3->tensorboard<2.3.0,>=2.2.0->tensorflow) (0.4.8)\n",
            "Installing collected packages: tensorboard\n",
            "Successfully installed tensorboard-2.2.1\n"
          ],
          "name": "stdout"
        },
        {
          "output_type": "display_data",
          "data": {
            "application/vnd.colab-display-data+json": {
              "pip_warning": {
                "packages": [
                  "tensorboard"
                ]
              }
            }
          },
          "metadata": {
            "tags": []
          }
        },
        {
          "output_type": "stream",
          "text": [
            "Requirement already up-to-date: keras==2.3.1 in /usr/local/lib/python3.6/dist-packages (2.3.1)\n",
            "Requirement already satisfied, skipping upgrade: keras-preprocessing>=1.0.5 in /usr/local/lib/python3.6/dist-packages (from keras==2.3.1) (1.1.0)\n",
            "Requirement already satisfied, skipping upgrade: keras-applications>=1.0.6 in /usr/local/lib/python3.6/dist-packages (from keras==2.3.1) (1.0.8)\n",
            "Requirement already satisfied, skipping upgrade: six>=1.9.0 in /usr/local/lib/python3.6/dist-packages (from keras==2.3.1) (1.14.0)\n",
            "Requirement already satisfied, skipping upgrade: h5py in /usr/local/lib/python3.6/dist-packages (from keras==2.3.1) (2.10.0)\n",
            "Requirement already satisfied, skipping upgrade: pyyaml in /usr/local/lib/python3.6/dist-packages (from keras==2.3.1) (5.3.1)\n",
            "Requirement already satisfied, skipping upgrade: scipy>=0.14 in /usr/local/lib/python3.6/dist-packages (from keras==2.3.1) (1.4.1)\n",
            "Requirement already satisfied, skipping upgrade: numpy>=1.9.1 in /usr/local/lib/python3.6/dist-packages (from keras==2.3.1) (1.18.3)\n",
            "Requirement already up-to-date: html5lib in /usr/local/lib/python3.6/dist-packages (1.0.1)\n",
            "Requirement already up-to-date: bleach in /usr/local/lib/python3.6/dist-packages (3.1.5)\n",
            "Requirement already up-to-date: six in /usr/local/lib/python3.6/dist-packages (1.14.0)\n",
            "Requirement already up-to-date: PyYAML in /usr/local/lib/python3.6/dist-packages (5.3.1)\n",
            "Requirement already satisfied, skipping upgrade: webencodings in /usr/local/lib/python3.6/dist-packages (from html5lib) (0.5.1)\n",
            "Requirement already satisfied, skipping upgrade: packaging in /usr/local/lib/python3.6/dist-packages (from bleach) (20.3)\n",
            "Requirement already satisfied, skipping upgrade: pyparsing>=2.0.2 in /usr/local/lib/python3.6/dist-packages (from packaging->bleach) (2.4.7)\n"
          ],
          "name": "stdout"
        }
      ]
    },
    {
      "cell_type": "code",
      "metadata": {
        "id": "Bgojkasaj1jC",
        "colab_type": "code",
        "colab": {}
      },
      "source": [
        "!pip install --upgrade imgaug==0.2.5"
      ],
      "execution_count": 0,
      "outputs": []
    },
    {
      "cell_type": "code",
      "metadata": {
        "id": "xCjVanciW7nh",
        "colab_type": "code",
        "colab": {}
      },
      "source": [
        "import os\n",
        "import numpy as np\n",
        "import pandas as pd\n",
        "import tensorflow as tf\n",
        "import tensorflow_hub as hub\n",
        "import matplotlib.pyplot as plt"
      ],
      "execution_count": 0,
      "outputs": []
    },
    {
      "cell_type": "code",
      "metadata": {
        "id": "Sw_cf_RGYF6M",
        "colab_type": "code",
        "outputId": "2d7f4ef2-954a-4ebb-e4e7-2ecbe751e0be",
        "colab": {
          "base_uri": "https://localhost:8080/",
          "height": 207
        }
      },
      "source": [
        "!pip show tensorflow"
      ],
      "execution_count": 0,
      "outputs": [
        {
          "output_type": "stream",
          "text": [
            "Name: tensorflow\n",
            "Version: 2.2.0rc3\n",
            "Summary: TensorFlow is an open source machine learning framework for everyone.\n",
            "Home-page: https://www.tensorflow.org/\n",
            "Author: Google Inc.\n",
            "Author-email: packages@tensorflow.org\n",
            "License: Apache 2.0\n",
            "Location: /usr/local/lib/python3.6/dist-packages\n",
            "Requires: absl-py, astunparse, tensorflow-estimator, termcolor, six, h5py, opt-einsum, google-pasta, grpcio, wheel, scipy, keras-preprocessing, numpy, wrapt, protobuf, tensorboard, gast\n",
            "Required-by: fancyimpute\n"
          ],
          "name": "stdout"
        }
      ]
    },
    {
      "cell_type": "code",
      "metadata": {
        "id": "A01QkgTdlODB",
        "colab_type": "code",
        "outputId": "4590f97c-b628-4de0-8d34-654b3c30902a",
        "colab": {
          "base_uri": "https://localhost:8080/",
          "height": 34
        }
      },
      "source": [
        "print(tf.__version__)"
      ],
      "execution_count": 0,
      "outputs": [
        {
          "output_type": "stream",
          "text": [
            "2.2.0-rc3\n"
          ],
          "name": "stdout"
        }
      ]
    },
    {
      "cell_type": "markdown",
      "metadata": {
        "id": "VAkrUktGqehq",
        "colab_type": "text"
      },
      "source": [
        "## Cells for training the model and Analysing the data "
      ]
    },
    {
      "cell_type": "code",
      "metadata": {
        "id": "4GjH3mvAk6AQ",
        "colab_type": "code",
        "colab": {}
      },
      "source": [
        "import re\n",
        "def sorted_alphanumeric(data):\n",
        "    convert = lambda text: int(text) if text.isdigit() else text.lower()\n",
        "    alphanum_key = lambda key: [ convert(c) for c in re.split('([0-9]+)', key) ] \n",
        "    return sorted(data, key=alphanum_key)"
      ],
      "execution_count": 0,
      "outputs": []
    },
    {
      "cell_type": "code",
      "metadata": {
        "id": "I5KMRyLhoz_z",
        "colab_type": "code",
        "colab": {}
      },
      "source": [
        "all_emotions = ['Happy', 'Sad', 'Angry', 'Surprised']"
      ],
      "execution_count": 0,
      "outputs": []
    },
    {
      "cell_type": "code",
      "metadata": {
        "id": "Zwb6TIkmuN2o",
        "colab_type": "code",
        "colab": {}
      },
      "source": [
        "# Getting image file names from individual tom and jerry folder from their respective emotion folder\n",
        "jerry_folder_path = '/content/drive/My Drive/Tom & Jerry Emotion/Emotions/Emotions-Dataset.zip (Unzipped Files)/Emotions-Dataset/Jerry'\n",
        "tom_folder_path = '/content/drive/My Drive/Tom & Jerry Emotion/Emotions/Emotions-Dataset.zip (Unzipped Files)/Emotions-Dataset/Tom'\n",
        "\n",
        "\n",
        "\n",
        "jerry_sad_image_names = sorted_alphanumeric(os.listdir(os.path.join(jerry_folder_path, 'Sad')))\n",
        "jerry_sad_image_names = [ os.path.splitext(jerry_sad_image_names)[0] for jerry_sad_image_names in jerry_sad_image_names]\n",
        "\n",
        "jerry_happy_image_names = sorted_alphanumeric(os.listdir(os.path.join(jerry_folder_path, 'Happy')))\n",
        "jerry_happy_image_names = [ os.path.splitext(jerry_happy_image_names)[0] for jerry_happy_image_names in jerry_happy_image_names]\n",
        "\n",
        "jerry_angry_image_names = sorted_alphanumeric(os.listdir(os.path.join(jerry_folder_path, 'Angry')))\n",
        "jerry_angry_image_names = [ os.path.splitext(jerry_angry_image_names)[0] for jerry_angry_image_names in jerry_angry_image_names]\n",
        "\n",
        "jerry_surprised_image_names = sorted_alphanumeric(os.listdir(os.path.join(jerry_folder_path, 'Surprised')))\n",
        "jerry_surprised_image_names = [ os.path.splitext(jerry_surprised_image_names)[0] for jerry_surprised_image_names in jerry_surprised_image_names]\n",
        "\n",
        "tom_sad_image_names = sorted_alphanumeric(os.listdir(os.path.join(tom_folder_path, 'Sad')))\n",
        "tom_sad_image_names = [ os.path.splitext(tom_sad_image_names)[0] for tom_sad_image_names in tom_sad_image_names]\n",
        "\n",
        "tom_happy_image_names = sorted_alphanumeric(os.listdir(os.path.join(tom_folder_path, 'Happy')))\n",
        "tom_happy_image_names = [ os.path.splitext(tom_happy_image_names)[0] for tom_happy_image_names in tom_happy_image_names]\n",
        "\n",
        "tom_angry_image_names = sorted_alphanumeric(os.listdir(os.path.join(tom_folder_path, 'Angry')))\n",
        "tom_angry_image_names = [ os.path.splitext(tom_angry_image_names)[0] for tom_angry_image_names in tom_angry_image_names]\n",
        "\n",
        "tom_surprised_image_names = sorted_alphanumeric(os.listdir(os.path.join(tom_folder_path, 'Surprised')))\n",
        "tom_surprised_image_names = [ os.path.splitext(tom_surprised_image_names)[0] for tom_surprised_image_names in tom_surprised_image_names]"
      ],
      "execution_count": 0,
      "outputs": []
    },
    {
      "cell_type": "code",
      "metadata": {
        "id": "-VsS0EH4uO6i",
        "colab_type": "code",
        "colab": {}
      },
      "source": [
        "all_image_names = jerry_sad_image_names + jerry_happy_image_names + jerry_angry_image_names + jerry_surprised_image_names + tom_sad_image_names + tom_happy_image_names + tom_angry_image_names + tom_surprised_image_names"
      ],
      "execution_count": 0,
      "outputs": []
    },
    {
      "cell_type": "code",
      "metadata": {
        "id": "Zziq0V5cuw2Y",
        "colab_type": "code",
        "outputId": "47f5facd-098b-4ce3-e971-b6caf59e47d6",
        "colab": {
          "base_uri": "https://localhost:8080/",
          "height": 187
        }
      },
      "source": [
        "all_image_names[:10]"
      ],
      "execution_count": 0,
      "outputs": [
        {
          "output_type": "execute_result",
          "data": {
            "text/plain": [
              "['Jerry_Sad_1',\n",
              " 'Jerry_Sad_2',\n",
              " 'Jerry_Sad_3',\n",
              " 'Jerry_Sad_4',\n",
              " 'Jerry_Sad_5',\n",
              " 'Jerry_Sad_6',\n",
              " 'Jerry_Sad_7',\n",
              " 'Jerry_Sad_8',\n",
              " 'Jerry_Sad_9',\n",
              " 'Jerry_Sad_10']"
            ]
          },
          "metadata": {
            "tags": []
          },
          "execution_count": 10
        }
      ]
    },
    {
      "cell_type": "code",
      "metadata": {
        "id": "NqbYiKRi1TMd",
        "colab_type": "code",
        "colab": {}
      },
      "source": [
        "labels_csv_new = pd.DataFrame(columns = ['Frame_ID', 'Emotion'])\n",
        "\n",
        "labels_csv_new['Frame_ID'] = all_image_names\n",
        "\n",
        "labels_csv_new['Emotion'][:347] = 'sad_jerry'\n",
        "labels_csv_new['Emotion'][347:1092] = 'happy_jerry'\n",
        "labels_csv_new['Emotion'][1092: 1390] = 'angry_jerry'\n",
        "labels_csv_new['Emotion'][1390: 1916] = 'surprise_jerry'\n",
        "labels_csv_new['Emotion'][1916: 2350] = 'sad_tom'\n",
        "labels_csv_new['Emotion'][2350:2802] = 'happy_tom'\n",
        "labels_csv_new['Emotion'][2802: 3252] = 'angry_tom'\n",
        "labels_csv_new['Emotion'][3252: ] = 'surprise_tom'"
      ],
      "execution_count": 0,
      "outputs": []
    },
    {
      "cell_type": "code",
      "metadata": {
        "id": "1wAGVkRD1VSw",
        "colab_type": "code",
        "outputId": "35660a51-aefd-4367-ab60-026253941988",
        "colab": {
          "base_uri": "https://localhost:8080/",
          "height": 419
        }
      },
      "source": [
        "labels_csv_new"
      ],
      "execution_count": 0,
      "outputs": [
        {
          "output_type": "execute_result",
          "data": {
            "text/html": [
              "<div>\n",
              "<style scoped>\n",
              "    .dataframe tbody tr th:only-of-type {\n",
              "        vertical-align: middle;\n",
              "    }\n",
              "\n",
              "    .dataframe tbody tr th {\n",
              "        vertical-align: top;\n",
              "    }\n",
              "\n",
              "    .dataframe thead th {\n",
              "        text-align: right;\n",
              "    }\n",
              "</style>\n",
              "<table border=\"1\" class=\"dataframe\">\n",
              "  <thead>\n",
              "    <tr style=\"text-align: right;\">\n",
              "      <th></th>\n",
              "      <th>Frame_ID</th>\n",
              "      <th>Emotion</th>\n",
              "    </tr>\n",
              "  </thead>\n",
              "  <tbody>\n",
              "    <tr>\n",
              "      <th>0</th>\n",
              "      <td>Jerry_Sad_1</td>\n",
              "      <td>sad_jerry</td>\n",
              "    </tr>\n",
              "    <tr>\n",
              "      <th>1</th>\n",
              "      <td>Jerry_Sad_2</td>\n",
              "      <td>sad_jerry</td>\n",
              "    </tr>\n",
              "    <tr>\n",
              "      <th>2</th>\n",
              "      <td>Jerry_Sad_3</td>\n",
              "      <td>sad_jerry</td>\n",
              "    </tr>\n",
              "    <tr>\n",
              "      <th>3</th>\n",
              "      <td>Jerry_Sad_4</td>\n",
              "      <td>sad_jerry</td>\n",
              "    </tr>\n",
              "    <tr>\n",
              "      <th>4</th>\n",
              "      <td>Jerry_Sad_5</td>\n",
              "      <td>sad_jerry</td>\n",
              "    </tr>\n",
              "    <tr>\n",
              "      <th>...</th>\n",
              "      <td>...</td>\n",
              "      <td>...</td>\n",
              "    </tr>\n",
              "    <tr>\n",
              "      <th>3709</th>\n",
              "      <td>Tom_Surprised_458</td>\n",
              "      <td>surprise_tom</td>\n",
              "    </tr>\n",
              "    <tr>\n",
              "      <th>3710</th>\n",
              "      <td>Tom_Surprised_459</td>\n",
              "      <td>surprise_tom</td>\n",
              "    </tr>\n",
              "    <tr>\n",
              "      <th>3711</th>\n",
              "      <td>Tom_Surprised_460</td>\n",
              "      <td>surprise_tom</td>\n",
              "    </tr>\n",
              "    <tr>\n",
              "      <th>3712</th>\n",
              "      <td>Tom_Surprised_461</td>\n",
              "      <td>surprise_tom</td>\n",
              "    </tr>\n",
              "    <tr>\n",
              "      <th>3713</th>\n",
              "      <td>Tom_Surprised_462</td>\n",
              "      <td>surprise_tom</td>\n",
              "    </tr>\n",
              "  </tbody>\n",
              "</table>\n",
              "<p>3714 rows × 2 columns</p>\n",
              "</div>"
            ],
            "text/plain": [
              "               Frame_ID       Emotion\n",
              "0           Jerry_Sad_1     sad_jerry\n",
              "1           Jerry_Sad_2     sad_jerry\n",
              "2           Jerry_Sad_3     sad_jerry\n",
              "3           Jerry_Sad_4     sad_jerry\n",
              "4           Jerry_Sad_5     sad_jerry\n",
              "...                 ...           ...\n",
              "3709  Tom_Surprised_458  surprise_tom\n",
              "3710  Tom_Surprised_459  surprise_tom\n",
              "3711  Tom_Surprised_460  surprise_tom\n",
              "3712  Tom_Surprised_461  surprise_tom\n",
              "3713  Tom_Surprised_462  surprise_tom\n",
              "\n",
              "[3714 rows x 2 columns]"
            ]
          },
          "metadata": {
            "tags": []
          },
          "execution_count": 52
        }
      ]
    },
    {
      "cell_type": "code",
      "metadata": {
        "id": "0YkQG3jR1YHy",
        "colab_type": "code",
        "outputId": "67c302ac-7e71-4280-fe9a-eea85ccf6657",
        "colab": {
          "base_uri": "https://localhost:8080/",
          "height": 487
        }
      },
      "source": [
        "labels_csv_new['Emotion'].value_counts().plot.bar(figsize = (10, 7));"
      ],
      "execution_count": 0,
      "outputs": [
        {
          "output_type": "display_data",
          "data": {
            "image/png": "[encoded data removed]",
            "text/plain": [
              "<Figure size 720x504 with 1 Axes>"
            ]
          },
          "metadata": {
            "tags": [],
            "needs_background": "light"
          }
        }
      ]
    },
    {
      "cell_type": "code",
      "metadata": {
        "id": "Xfc6nLFv1bfs",
        "colab_type": "code",
        "outputId": "991ddead-a275-43ab-e266-aed9cdfa3479",
        "colab": {
          "base_uri": "https://localhost:8080/",
          "height": 34
        }
      },
      "source": [
        "labels_csv_new['Emotion'].value_counts().median(), labels_csv_new['Emotion'].value_counts().sum()"
      ],
      "execution_count": 0,
      "outputs": [
        {
          "output_type": "execute_result",
          "data": {
            "text/plain": [
              "(451.0, 3714)"
            ]
          },
          "metadata": {
            "tags": []
          },
          "execution_count": 54
        }
      ]
    },
    {
      "cell_type": "code",
      "metadata": {
        "id": "kdBk9s4w1eK-",
        "colab_type": "code",
        "colab": {}
      },
      "source": [
        "# Get the list of filenames for our images\n",
        "image_folder_path = '/content/drive/My Drive/Tom & Jerry Emotion/Emotions/Emotions-Dataset.zip (Unzipped Files)/Emotions-Dataset/'\n",
        "\n",
        "file_names_jerry_sad = [image_folder_path + 'Jerry/Sad/' + fnames for fnames in labels_csv_new['Frame_ID'][:347] + '.png']\n",
        "file_names_jerry_happy = [image_folder_path + 'Jerry/Happy/' + fnames for fnames in labels_csv_new['Frame_ID'][347:1092] + '.png']\n",
        "file_names_jerry_angry = [image_folder_path + 'Jerry/Angry/' + fnames for fnames in labels_csv_new['Frame_ID'][1092: 1390] + '.png']\n",
        "file_names_jerry_surprise = [image_folder_path + 'Jerry/Surprised/' + fnames for fnames in labels_csv_new['Frame_ID'][1390: 1916] + '.png']\n",
        "                             \n",
        "file_names_tom_sad = [image_folder_path + 'Tom/Sad/' + fnames for fnames in labels_csv_new['Frame_ID'][1916: 2350] + '.png']\n",
        "file_names_tom_happy = [image_folder_path + 'Tom/Happy/' + fnames for fnames in labels_csv_new['Frame_ID'][2350:2802] + '.png']\n",
        "file_names_tom_angry = [image_folder_path + 'Tom/Angry/' + fnames for fnames in labels_csv_new['Frame_ID'][2802: 3252] + '.png']\n",
        "file_names_tom_surprise = [image_folder_path + 'Tom/Surprised/' + fnames for fnames in labels_csv_new['Frame_ID'][3252:] + '.png']                            "
      ],
      "execution_count": 0,
      "outputs": []
    },
    {
      "cell_type": "code",
      "metadata": {
        "id": "TI2O0CWa1yTf",
        "colab_type": "code",
        "colab": {}
      },
      "source": [
        "all_file_names =  file_names_jerry_sad + file_names_jerry_happy + file_names_jerry_angry + file_names_jerry_surprise + file_names_tom_sad + file_names_tom_happy + file_names_tom_angry + file_names_tom_surprise"
      ],
      "execution_count": 0,
      "outputs": []
    },
    {
      "cell_type": "code",
      "metadata": {
        "id": "kc_E1j_x1u_y",
        "colab_type": "code",
        "outputId": "1c379964-ee3d-45e3-d095-ce4233fcbd17",
        "colab": {
          "base_uri": "https://localhost:8080/",
          "height": 273
        }
      },
      "source": [
        "from IPython.display import Image\n",
        "Image(all_file_names[1])"
      ],
      "execution_count": 0,
      "outputs": [
        {
          "output_type": "execute_result",
          "data": {
            "image/png": "[encoded data removed]",
            "text/plain": [
              "<IPython.core.display.Image object>"
            ]
          },
          "metadata": {
            "tags": []
          },
          "execution_count": 62
        }
      ]
    },
    {
      "cell_type": "code",
      "metadata": {
        "id": "tSnqB9lv17J1",
        "colab_type": "code",
        "outputId": "66dbfa00-7aeb-4b4b-bdd8-e7e886108eda",
        "colab": {
          "base_uri": "https://localhost:8080/",
          "height": 51
        }
      },
      "source": [
        "labels = labels_csv_new['Emotion'].to_numpy()\n",
        "labels, len(labels)"
      ],
      "execution_count": 0,
      "outputs": [
        {
          "output_type": "execute_result",
          "data": {
            "text/plain": [
              "(array(['sad_jerry', 'sad_jerry', 'sad_jerry', ..., 'surprise_tom',\n",
              "        'surprise_tom', 'surprise_tom'], dtype=object), 3714)"
            ]
          },
          "metadata": {
            "tags": []
          },
          "execution_count": 63
        }
      ]
    },
    {
      "cell_type": "code",
      "metadata": {
        "id": "SM-AllCB19Me",
        "colab_type": "code",
        "outputId": "2a79a7ea-b5c5-4226-e735-4e5177740a59",
        "colab": {
          "base_uri": "https://localhost:8080/",
          "height": 68
        }
      },
      "source": [
        "# Finding the unique_labels out of labels array\n",
        "unique_labels = np.unique(labels)\n",
        "unique_labels"
      ],
      "execution_count": 0,
      "outputs": [
        {
          "output_type": "execute_result",
          "data": {
            "text/plain": [
              "array(['angry_jerry', 'angry_tom', 'happy_jerry', 'happy_tom',\n",
              "       'sad_jerry', 'sad_tom', 'surprise_jerry', 'surprise_tom'],\n",
              "      dtype=object)"
            ]
          },
          "metadata": {
            "tags": []
          },
          "execution_count": 64
        }
      ]
    },
    {
      "cell_type": "markdown",
      "metadata": {
        "id": "_bB9lNATqp4L",
        "colab_type": "text"
      },
      "source": [
        "## Cells for gettin the test results"
      ]
    },
    {
      "cell_type": "code",
      "metadata": {
        "id": "r80eoQXwyT3M",
        "colab_type": "code",
        "colab": {}
      },
      "source": [
        "IMG_SIZE = 224\n",
        "def preprocessor(image_path, image_size = IMG_SIZE):\n",
        "  '''\n",
        "  Takes an image file path and turns it into a tensor, normalizes and reshapes it\n",
        "  '''\n",
        "  # Read an image file\n",
        "  image = tf.io.read_file(image_path)\n",
        "\n",
        "  # Turn the jpg image into a tensor with 3 color channels\n",
        "  image = tf.image.decode_jpeg(image, channels = 3)\n",
        "\n",
        "  # Normalization, from 0-255 to 0-1\n",
        "  image = tf.image.convert_image_dtype(image, tf.float32)\n",
        "\n",
        "  # Resize the image to our desired values (60, 60)\n",
        "  image = tf.image.resize(image, size = [IMG_SIZE, IMG_SIZE])\n",
        "\n",
        "  return image"
      ],
      "execution_count": 0,
      "outputs": []
    },
    {
      "cell_type": "code",
      "metadata": {
        "id": "JLl2h9s5yV7U",
        "colab_type": "code",
        "colab": {}
      },
      "source": [
        "# Create a function to return (image, label)\n",
        "def get_image_label(image_path, label):\n",
        "  '''\n",
        "  Takes image file path and the associated label as the imput and gives out\n",
        "  the tuple of the two\n",
        "  '''\n",
        "  image = preprocessor(image_path)\n",
        "  return image, label"
      ],
      "execution_count": 0,
      "outputs": []
    },
    {
      "cell_type": "code",
      "metadata": {
        "id": "F6Aj6L7eyOKK",
        "colab_type": "code",
        "colab": {}
      },
      "source": [
        "# Defining the batch size\n",
        "BATCH_SIZE = 32\n",
        "# Creating a function to convert data into batches\n",
        "def create_data_batches(x, y = None, batch_size = BATCH_SIZE, valid_data = False, test_data = False):\n",
        "  '''\n",
        "  Creates batches of Data out of images x and labels y pairs.\n",
        "  Shuffles the training data but not validation data\n",
        "  Also accepts test data as input (without labels)\n",
        "  '''\n",
        "\n",
        "  if test_data:\n",
        "    print('Creating Test Data Batches!')\n",
        "\n",
        "    # Turn filepaths (images) into a list of tensors/slices a big  tensor into smaller objects\n",
        "    data = tf.data.Dataset.from_tensor_slices((tf.constant(x)))\n",
        "\n",
        "    # Preprocess these sliced tensors(tensor for each image in file_names array) & batch them\n",
        "    data_batch = data.map(preprocessor).batch(BATCH_SIZE)\n",
        "\n",
        "    return data_batch\n",
        "\n",
        "  elif valid_data:\n",
        "    print('Creating Valid Data batches!')\n",
        "    data = tf.data.Dataset.from_tensor_slices((tf.constant(x),\n",
        "                                              tf.constant(y)))\n",
        "    data_batch = data.map(get_image_label).batch(BATCH_SIZE)\n",
        "    return data_batch\n",
        "\n",
        "  else:\n",
        "\n",
        "    print('Creating Training data batches!')\n",
        "    data = tf.data.Dataset.from_tensor_slices((tf.constant(x),\n",
        "                                              tf.constant(y)))\n",
        "    # Shuffling pathnames and labels before mapping preprocessor function\n",
        "    data = data.shuffle(buffer_size = len(x))\n",
        "\n",
        "    data_batch = data.map(get_image_label).batch(BATCH_SIZE)\n",
        "\n",
        "  return data_batch\n"
      ],
      "execution_count": 0,
      "outputs": []
    },
    {
      "cell_type": "code",
      "metadata": {
        "id": "dj77OiUau0i5",
        "colab_type": "code",
        "colab": {}
      },
      "source": [
        "# Loading a saved trained model \n",
        "def load_model(model_path):\n",
        "  print(f'Loading a saved model from the path: {model_path}')\n",
        "  model = tf.keras.models.load_model(model_path,\n",
        "                                     custom_objects = {'KerasLayer': hub.KerasLayer})\n",
        "  return model"
      ],
      "execution_count": 0,
      "outputs": []
    },
    {
      "cell_type": "code",
      "metadata": {
        "id": "tL_G9UHUvjr3",
        "colab_type": "code",
        "outputId": "47344ddd-2541-4d2d-f117-1f3cb9f97088",
        "colab": {
          "base_uri": "https://localhost:8080/",
          "height": 34
        }
      },
      "source": [
        "loaded_model = load_model('/content/drive/My Drive/Tom & Jerry Emotion/models/20200504-001719-final-8100-image-trained-model-mobilenetV2.h5')"
      ],
      "execution_count": 168,
      "outputs": [
        {
          "output_type": "stream",
          "text": [
            "Loading a saved model from the path: /content/drive/My Drive/Tom & Jerry Emotion/models/20200504-001719-final-8100-image-trained-model-mobilenetV2.h5\n"
          ],
          "name": "stdout"
        }
      ]
    },
    {
      "cell_type": "markdown",
      "metadata": {
        "id": "3O5Hvin9wCcv",
        "colab_type": "text"
      },
      "source": [
        "# MAking Predictions on the test data\n",
        "\n",
        "* Get the test image filenames\n",
        "* Convert the filenames into test data batches using create_data_batch()\n",
        "* Make presictions by passing the test batches to the predict() method called on the full model"
      ]
    },
    {
      "cell_type": "code",
      "metadata": {
        "id": "kIirEXD3vlDE",
        "colab_type": "code",
        "colab": {}
      },
      "source": [
        "test_path = '/content/drive/My Drive/Mask_RCNN-2.1/extracted_test_images/'\n",
        "test_filenames = [test_path + fname for fname in os.listdir(test_path)]\n",
        "sorted_test_filenames = sorted_alphanumeric(test_filenames)\n"
      ],
      "execution_count": 0,
      "outputs": []
    },
    {
      "cell_type": "code",
      "metadata": {
        "id": "f4_pAV0pwtvR",
        "colab_type": "code",
        "outputId": "2c36a3c7-e2ed-44bd-c3aa-3b7c0edc8570",
        "colab": {
          "base_uri": "https://localhost:8080/",
          "height": 34
        }
      },
      "source": [
        "sorted_test_filenames[10]"
      ],
      "execution_count": 182,
      "outputs": [
        {
          "output_type": "execute_result",
          "data": {
            "text/plain": [
              "'/content/drive/My Drive/Mask_RCNN-2.1/extracted_test_images/frame13_tom.png'"
            ]
          },
          "metadata": {
            "tags": []
          },
          "execution_count": 182
        }
      ]
    },
    {
      "cell_type": "code",
      "metadata": {
        "id": "o7OsJuD0xY5g",
        "colab_type": "code",
        "outputId": "312c2e5a-5862-4260-ef00-fc2171c4722a",
        "colab": {
          "base_uri": "https://localhost:8080/",
          "height": 34
        }
      },
      "source": [
        "len(sorted_test_filenames)"
      ],
      "execution_count": 184,
      "outputs": [
        {
          "output_type": "execute_result",
          "data": {
            "text/plain": [
              "134"
            ]
          },
          "metadata": {
            "tags": []
          },
          "execution_count": 184
        }
      ]
    },
    {
      "cell_type": "code",
      "metadata": {
        "id": "dGZ7u28vxn60",
        "colab_type": "code",
        "outputId": "81a60c46-79a1-4f80-b17f-6a88720982e5",
        "colab": {
          "base_uri": "https://localhost:8080/",
          "height": 273
        }
      },
      "source": [
        "from IPython.display import Image\n",
        "Image(sorted_test_filenames[17])"
      ],
      "execution_count": 183,
      "outputs": [
        {
          "output_type": "execute_result",
          "data": {
            "image/png": "[encoded data removed]",
            "text/plain": [
              "<IPython.core.display.Image object>"
            ]
          },
          "metadata": {
            "tags": []
          },
          "execution_count": 183
        }
      ]
    },
    {
      "cell_type": "code",
      "metadata": {
        "id": "wc8qLSMQ0DY6",
        "colab_type": "code",
        "colab": {}
      },
      "source": [
        "# Making Function for test Dataset predictions\n",
        "def get_test_predictions(test_folder_path):\n",
        "\n",
        "  test_path = test_folder_path\n",
        "  test_filenames = [test_path + fname for fname in os.listdir(test_path)]\n",
        "  sorted_test_filenames = sorted_alphanumeric(test_filenames)\n",
        "\n",
        "  test_data = create_data_batches(x = sorted_test_filenames, test_data=True)\n",
        "\n",
        "  test_predictions = loaded_model.predict(test_data)\n",
        "\n",
        "  return test_data, test_predictions"
      ],
      "execution_count": 0,
      "outputs": []
    },
    {
      "cell_type": "code",
      "metadata": {
        "id": "ammld4d823y_",
        "colab_type": "code",
        "outputId": "5463dbe4-d014-46e2-fe09-138849c27f09",
        "colab": {
          "base_uri": "https://localhost:8080/",
          "height": 34
        }
      },
      "source": [
        "len(os.listdir(test_path))"
      ],
      "execution_count": 173,
      "outputs": [
        {
          "output_type": "execute_result",
          "data": {
            "text/plain": [
              "134"
            ]
          },
          "metadata": {
            "tags": []
          },
          "execution_count": 173
        }
      ]
    },
    {
      "cell_type": "code",
      "metadata": {
        "id": "PmsZaykU18z-",
        "colab_type": "code",
        "colab": {}
      },
      "source": [
        "# Moving the unknown extracted test images to a different folder\n",
        "unknown_extracted_test_images_folder_path = '/content/drive/My Drive/Mask_RCNN-2.1/unknown_extracted_test_images' \n",
        "\n",
        "for file_name in sorted_alphanumeric(os.listdir(test_path)):\n",
        "  if 'unknown' in file_name:\n",
        "    unknown_image_source_path = os.path.join(test_path, file_name)\n",
        "    unknown_image_dest_path = os.path.join(unknown_extracted_test_images_folder_path, file_name)\n",
        "\n",
        "    os.replace(unknown_image_source_path, unknown_image_dest_path)\n"
      ],
      "execution_count": 0,
      "outputs": []
    },
    {
      "cell_type": "code",
      "metadata": {
        "id": "iahkIC4xx_ju",
        "colab_type": "code",
        "outputId": "8d4a495a-5b8c-4b9a-a307-facec9f304f9",
        "colab": {
          "base_uri": "https://localhost:8080/",
          "height": 34
        }
      },
      "source": [
        "# Calling the get_test_predictions and prepare_dataframe functions on the segmented test data\n",
        "# test_batched_data, test_segmented_predictions = get_test_predictions(test_folder_path = test_path)\n",
        "test_batched_data, test_segmented_predictions = get_test_predictions(test_folder_path = test_path)"
      ],
      "execution_count": 187,
      "outputs": [
        {
          "output_type": "stream",
          "text": [
            "Creating Test Data Batches!\n"
          ],
          "name": "stdout"
        }
      ]
    },
    {
      "cell_type": "code",
      "metadata": {
        "id": "5scbQuc0GXE8",
        "colab_type": "code",
        "outputId": "df856f9b-7a2c-4c33-fb6f-7daa5b2a5399",
        "colab": {
          "base_uri": "https://localhost:8080/",
          "height": 34
        }
      },
      "source": [
        "type(test_batched_data)"
      ],
      "execution_count": 0,
      "outputs": [
        {
          "output_type": "execute_result",
          "data": {
            "text/plain": [
              "tensorflow.python.data.ops.dataset_ops.BatchDataset"
            ]
          },
          "metadata": {
            "tags": []
          },
          "execution_count": 42
        }
      ]
    },
    {
      "cell_type": "code",
      "metadata": {
        "id": "IiPDl14M1B1E",
        "colab_type": "code",
        "colab": {}
      },
      "source": [
        "unique_labels = ['angry_jerry', 'angry_tom', 'happy_jerry', 'happy_tom',\n",
        "       'sad_jerry', 'sad_tom', 'surprise_jerry', 'surprise_tom']\n",
        "unique_labels = np.array(unique_labels)   "
      ],
      "execution_count": 0,
      "outputs": []
    },
    {
      "cell_type": "code",
      "metadata": {
        "id": "2NY4pDy9yEnD",
        "colab_type": "code",
        "outputId": "9f516f0e-b11a-41b3-8d9d-ceec253f1ac6",
        "colab": {
          "base_uri": "https://localhost:8080/",
          "height": 374
        }
      },
      "source": [
        "test_segmented_predictions[:10], test_segmented_predictions.shape"
      ],
      "execution_count": 189,
      "outputs": [
        {
          "output_type": "execute_result",
          "data": {
            "text/plain": [
              "(array([[5.05155349e-08, 8.35611671e-03, 9.04338322e-06, 1.99582711e-01,\n",
              "         8.56443023e-08, 1.50990084e-01, 2.44489726e-08, 6.41061902e-01],\n",
              "        [3.99849798e-09, 1.56471562e-02, 2.09297627e-06, 3.94769944e-02,\n",
              "         3.75361282e-07, 3.25864330e-02, 1.16079448e-08, 9.12286818e-01],\n",
              "        [1.17060473e-07, 2.07255676e-01, 2.16138609e-08, 2.57283803e-02,\n",
              "         1.77578625e-06, 7.35784411e-01, 1.37411735e-08, 3.12296320e-02],\n",
              "        [9.87577806e-08, 8.44837353e-03, 2.43317277e-09, 4.68720449e-03,\n",
              "         1.28335239e-06, 6.88316762e-01, 3.36061357e-09, 2.98546255e-01],\n",
              "        [3.37431558e-08, 2.96078343e-02, 4.91527530e-09, 8.51670559e-03,\n",
              "         2.49400568e-06, 8.74322891e-01, 4.67236916e-08, 8.75498503e-02],\n",
              "        [6.68077837e-06, 1.74022361e-03, 5.45362582e-07, 5.48837008e-03,\n",
              "         9.21488099e-05, 8.69855464e-01, 2.83693971e-05, 1.22788131e-01],\n",
              "        [1.09127332e-10, 8.73142481e-02, 1.60674816e-07, 2.04041794e-01,\n",
              "         1.29130342e-07, 1.76305622e-01, 2.75234218e-08, 5.32338023e-01],\n",
              "        [1.16592011e-04, 7.07403123e-01, 1.61633870e-05, 2.38642246e-01,\n",
              "         2.56009971e-05, 4.61658388e-02, 5.51246376e-06, 7.62490463e-03],\n",
              "        [3.57298518e-07, 4.86007286e-03, 5.09423046e-08, 8.75680923e-01,\n",
              "         3.00674310e-06, 1.19379655e-01, 8.96851760e-10, 7.59220275e-05],\n",
              "        [1.68194077e-07, 1.15993293e-03, 9.85681822e-07, 4.27979492e-02,\n",
              "         5.23635038e-07, 2.41593823e-01, 1.00124714e-06, 7.14445651e-01]],\n",
              "       dtype=float32), (134, 8))"
            ]
          },
          "metadata": {
            "tags": []
          },
          "execution_count": 189
        }
      ]
    },
    {
      "cell_type": "code",
      "metadata": {
        "id": "r3328KCJzJbe",
        "colab_type": "code",
        "outputId": "a7677631-8fd5-4794-e92b-d925673a5315",
        "colab": {
          "base_uri": "https://localhost:8080/",
          "height": 34
        }
      },
      "source": [
        "# Turn prediction probabilities into their respective label (easier to understand)\n",
        "def get_pred_label(prediction_probabilities):\n",
        "  \"\"\"\n",
        "  Turns an array of prediction probabilities into a label.\n",
        "  \"\"\"\n",
        "  pred_indv_emotion = unique_labels[np.argmax(prediction_probabilities)]\n",
        "  if 'happy' in pred_indv_emotion:\n",
        "    return 'happy'\n",
        "  elif 'angry' in pred_indv_emotion:\n",
        "    return 'angry'\n",
        "  else:\n",
        "    return 'surprise'\n",
        "\n",
        "# Get a predicted label based on an array of prediction probabilities\n",
        "pred_label = get_pred_label(test_segmented_predictions[17])\n",
        "pred_label"
      ],
      "execution_count": 190,
      "outputs": [
        {
          "output_type": "execute_result",
          "data": {
            "text/plain": [
              "'surprise'"
            ]
          },
          "metadata": {
            "tags": []
          },
          "execution_count": 190
        }
      ]
    },
    {
      "cell_type": "code",
      "metadata": {
        "id": "vEgW_7L90O9t",
        "colab_type": "code",
        "outputId": "97a9fe50-2cd0-42a2-87a7-3b3aaa95a558",
        "colab": {
          "base_uri": "https://localhost:8080/",
          "height": 187
        }
      },
      "source": [
        "# get the predicted label for all the images\n",
        "for i in range(10):\n",
        "  pred_label = get_pred_label(test_segmented_predictions[i])\n",
        "  print(pred_label)"
      ],
      "execution_count": 191,
      "outputs": [
        {
          "output_type": "stream",
          "text": [
            "surprise\n",
            "surprise\n",
            "surprise\n",
            "surprise\n",
            "surprise\n",
            "surprise\n",
            "surprise\n",
            "angry\n",
            "happy\n",
            "surprise\n"
          ],
          "name": "stdout"
        }
      ]
    },
    {
      "cell_type": "code",
      "metadata": {
        "id": "CEmJc-g8yg_n",
        "colab_type": "code",
        "colab": {}
      },
      "source": [
        "#  Create a function to unbatch test data (i.e. only images are unbatched)\n",
        "\n",
        "def unbatchify_test_data(data):\n",
        "  '''function to unbatch test data (i.e. only images are unbatched)'''\n",
        "  images = []\n",
        "  for image in data.unbatch().as_numpy_iterator():\n",
        "    images.append(image)\n",
        "  return images\n"
      ],
      "execution_count": 0,
      "outputs": []
    },
    {
      "cell_type": "code",
      "metadata": {
        "id": "zmjUu9nBysOQ",
        "colab_type": "code",
        "colab": {}
      },
      "source": [
        "def visualize_test_predictions(prediction_prob_array, images, n = 1):\n",
        "\n",
        "  pred_probability, image = prediction_prob_array[n], images[n]\n",
        "\n",
        "  # Get the pred label\n",
        "  pred_label = get_pred_label(pred_probability)\n",
        "\n",
        "  # plot the image\n",
        "  plt.imshow(image)\n",
        "  plt.xticks([])\n",
        "  plt.yticks([])\n",
        "\n",
        "  # Change the title to - predicted label, probability of predection, and truth label\n",
        "  plt.title('{} {:2.0f}% '.format(pred_label, \n",
        "                                     np.max(pred_probability)*100),\n",
        "                                      color = 'red')\n",
        "                                     \n"
      ],
      "execution_count": 0,
      "outputs": []
    },
    {
      "cell_type": "code",
      "metadata": {
        "id": "M9ET_gaPy8Pe",
        "colab_type": "code",
        "colab": {}
      },
      "source": [
        "# unbatchify test data into images and labels for visualization\n",
        "test_images = unbatchify_test_data(data = test_batched_data)"
      ],
      "execution_count": 0,
      "outputs": []
    },
    {
      "cell_type": "code",
      "metadata": {
        "id": "Poqq6lOnyuFE",
        "colab_type": "code",
        "outputId": "932ca721-0d71-4f8a-8236-50132cf49b76",
        "colab": {
          "base_uri": "https://localhost:8080/",
          "height": 268
        }
      },
      "source": [
        "# Visualizing the test data predictions\n",
        "\n",
        "visualize_test_predictions(prediction_prob_array = test_segmented_predictions, \n",
        "                           images = test_images, n = 8)"
      ],
      "execution_count": 196,
      "outputs": [
        {
          "output_type": "display_data",
          "data": {
            "image/png": "[encoded data removed]",
            "text/plain": [
              "<Figure size 432x288 with 1 Axes>"
            ]
          },
          "metadata": {
            "tags": []
          }
        }
      ]
    },
    {
      "cell_type": "markdown",
      "metadata": {
        "id": "lyfcNgwRRxrI",
        "colab_type": "text"
      },
      "source": [
        "# Preparing test dataframe for HackerEarth Submission"
      ]
    },
    {
      "cell_type": "code",
      "metadata": {
        "id": "T-XMz_oCZboT",
        "colab_type": "code",
        "colab": {}
      },
      "source": [
        "unknown_test_path = '/content/drive/My Drive/Mask_RCNN-2.1/unknown_extracted_test_images'\n",
        "unknown_images_sorted_array = sorted_alphanumeric(os.listdir(unknown_test_path))"
      ],
      "execution_count": 0,
      "outputs": []
    },
    {
      "cell_type": "code",
      "metadata": {
        "id": "fU6YT9u_WSaY",
        "colab_type": "code",
        "colab": {}
      },
      "source": [
        "def get_Frame_ID_column(test_predictions, test_path, unknown_test_path):\n",
        "  preds_test_df = pd.DataFrame(columns = ['Frame_ID', 'Emotion'])\n",
        "\n",
        "  ordered_ID = sorted_alphanumeric([fname for fname in os.listdir(test_path)])\n",
        "  preds_test_df['Frame_ID'] = ordered_ID\n",
        "  preds_test_df['Emotion'] = [get_pred_label(emotion) for emotion in test_predictions]\n",
        "\n",
        "  preds_test_df_2 = pd.DataFrame(columns = ['Frame_ID', 'Emotion'])\n",
        "  ordered_unknown_ID = sorted_alphanumeric([fname for fname in os.listdir(unknown_test_path)])\n",
        "  preds_test_df_2['Frame_ID'] =  ordered_unknown_ID\n",
        "  preds_test_df_2['Emotion'] = 'Unknown'\n",
        "\n",
        "  appended_preds_test_df = preds_test_df.append(preds_test_df_2)\n",
        "  appended_preds_test_df_array = appended_preds_test_df.to_numpy()\n",
        "\n",
        "  Frame_ID_series = []\n",
        "  Emotion_series = []\n",
        "  for row in appended_preds_test_df_array:  \n",
        "    Frame_ID_series.append(row[0])\n",
        "    Emotion_series.append(row[1])\n",
        "  return Frame_ID_series"
      ],
      "execution_count": 0,
      "outputs": []
    },
    {
      "cell_type": "code",
      "metadata": {
        "id": "gYWwIs0tXH8g",
        "colab_type": "code",
        "colab": {}
      },
      "source": [
        "Frame_ID_series = prepare_unsorted_dataframe(test_predictions = test_segmented_predictions, test_path = test_path, unknown_test_path = unknown_test_path)"
      ],
      "execution_count": 0,
      "outputs": []
    },
    {
      "cell_type": "code",
      "metadata": {
        "id": "ivIGfGbkT8T-",
        "colab_type": "code",
        "colab": {}
      },
      "source": [
        "# best part till now\n",
        "def prepare_dataframe(test_predictions, test_path, unknown_test_path, frame_names):\n",
        "\n",
        "  preds_test_df = pd.DataFrame(columns = ['Frame_ID', 'Emotion'])\n",
        "\n",
        "  ordered_ID = sorted_alphanumeric([fname for fname in os.listdir(test_path)])\n",
        "  preds_test_df['Frame_ID'] = ordered_ID\n",
        "  preds_test_df['Emotion'] = [get_pred_label(emotion) for emotion in test_predictions]\n",
        "\n",
        "  preds_test_df_2 = pd.DataFrame(columns = ['Frame_ID', 'Emotion'])\n",
        "  ordered_unknown_ID = sorted_alphanumeric([fname for fname in os.listdir(unknown_test_path)])\n",
        "  preds_test_df_2['Frame_ID'] =  ordered_unknown_ID\n",
        "  preds_test_df_2['Emotion'] = 'Unknown'\n",
        "\n",
        "  appended_preds_test_df = preds_test_df.append(preds_test_df_2)\n",
        "  appended_preds_test_df.index = Frame_ID_series\n",
        "  appended_preds_test_df.drop(['Frame_ID'], axis = 1, inplace = True)\n",
        "\n",
        "  a = appended_preds_test_df.index.tolist()\n",
        "  b = {}\n",
        "  for x in a:\n",
        "    i = (x).split('_')[0].split('e')[1]\n",
        "    b[x] = int(i)\n",
        "\n",
        "  c = sorted(a, key=lambda x: b[x])\n",
        "  appended_preds_test_df = appended_preds_test_df.reindex(c)\n",
        "  appended_preds_test_df['Frame_ID'] = appended_preds_test_df.index\n",
        "  appended_preds_test_df.index = range(187)\n",
        "  appended_preds_test_df_reorder=appended_preds_test_df.reindex(columns=['Frame_ID', 'Emotion'])\n",
        "    \n",
        "  return appended_preds_test_df_reorder\n"
      ],
      "execution_count": 0,
      "outputs": []
    },
    {
      "cell_type": "code",
      "metadata": {
        "id": "XUQW1xinR0q0",
        "colab_type": "code",
        "outputId": "e9b03f47-c711-4141-e29a-e594620a3ce1",
        "colab": {
          "base_uri": "https://localhost:8080/",
          "height": 390
        }
      },
      "source": [
        "preds_test_df = prepare_dataframe(test_predictions = test_segmented_predictions, test_path = test_path, unknown_test_path = unknown_test_path, frame_names = Frame_ID_series)\n",
        "preds_test_df[:11]"
      ],
      "execution_count": 201,
      "outputs": [
        {
          "output_type": "execute_result",
          "data": {
            "text/html": [
              "<div>\n",
              "<style scoped>\n",
              "    .dataframe tbody tr th:only-of-type {\n",
              "        vertical-align: middle;\n",
              "    }\n",
              "\n",
              "    .dataframe tbody tr th {\n",
              "        vertical-align: top;\n",
              "    }\n",
              "\n",
              "    .dataframe thead th {\n",
              "        text-align: right;\n",
              "    }\n",
              "</style>\n",
              "<table border=\"1\" class=\"dataframe\">\n",
              "  <thead>\n",
              "    <tr style=\"text-align: right;\">\n",
              "      <th></th>\n",
              "      <th>Frame_ID</th>\n",
              "      <th>Emotion</th>\n",
              "    </tr>\n",
              "  </thead>\n",
              "  <tbody>\n",
              "    <tr>\n",
              "      <th>0</th>\n",
              "      <td>frame0_tom.png</td>\n",
              "      <td>surprise</td>\n",
              "    </tr>\n",
              "    <tr>\n",
              "      <th>1</th>\n",
              "      <td>frame1_tom.png</td>\n",
              "      <td>surprise</td>\n",
              "    </tr>\n",
              "    <tr>\n",
              "      <th>2</th>\n",
              "      <td>frame2_tom.png</td>\n",
              "      <td>surprise</td>\n",
              "    </tr>\n",
              "    <tr>\n",
              "      <th>3</th>\n",
              "      <td>frame3_tom.png</td>\n",
              "      <td>surprise</td>\n",
              "    </tr>\n",
              "    <tr>\n",
              "      <th>4</th>\n",
              "      <td>frame4_tom.png</td>\n",
              "      <td>surprise</td>\n",
              "    </tr>\n",
              "    <tr>\n",
              "      <th>5</th>\n",
              "      <td>frame5_tom.png</td>\n",
              "      <td>surprise</td>\n",
              "    </tr>\n",
              "    <tr>\n",
              "      <th>6</th>\n",
              "      <td>frame6_tom.png</td>\n",
              "      <td>surprise</td>\n",
              "    </tr>\n",
              "    <tr>\n",
              "      <th>7</th>\n",
              "      <td>frame7_unknown.png</td>\n",
              "      <td>Unknown</td>\n",
              "    </tr>\n",
              "    <tr>\n",
              "      <th>8</th>\n",
              "      <td>frame8_unknown.png</td>\n",
              "      <td>Unknown</td>\n",
              "    </tr>\n",
              "    <tr>\n",
              "      <th>9</th>\n",
              "      <td>frame9_unknown.png</td>\n",
              "      <td>Unknown</td>\n",
              "    </tr>\n",
              "    <tr>\n",
              "      <th>10</th>\n",
              "      <td>frame10_tom.png</td>\n",
              "      <td>angry</td>\n",
              "    </tr>\n",
              "  </tbody>\n",
              "</table>\n",
              "</div>"
            ],
            "text/plain": [
              "              Frame_ID   Emotion\n",
              "0       frame0_tom.png  surprise\n",
              "1       frame1_tom.png  surprise\n",
              "2       frame2_tom.png  surprise\n",
              "3       frame3_tom.png  surprise\n",
              "4       frame4_tom.png  surprise\n",
              "5       frame5_tom.png  surprise\n",
              "6       frame6_tom.png  surprise\n",
              "7   frame7_unknown.png   Unknown\n",
              "8   frame8_unknown.png   Unknown\n",
              "9   frame9_unknown.png   Unknown\n",
              "10     frame10_tom.png     angry"
            ]
          },
          "metadata": {
            "tags": []
          },
          "execution_count": 201
        }
      ]
    },
    {
      "cell_type": "code",
      "metadata": {
        "id": "Yh4hA5RMVMLM",
        "colab_type": "code",
        "colab": {}
      },
      "source": [
        "# Saving the segmented test predictions\n",
        "preds_test_df.to_csv('/content/drive/My Drive/Tom & Jerry Emotion/test_submission_df/test_images_8100_data_combined_file_mobilenetv2.csv',\n",
        "                     index = False)"
      ],
      "execution_count": 0,
      "outputs": []
    },
    {
      "cell_type": "code",
      "metadata": {
        "id": "OMN3q4DYSM-0",
        "colab_type": "code",
        "colab": {}
      },
      "source": [
        "# Get the right name of the series item for submission in correct Format\n",
        "def change_df_series_items_name(df_series):\n",
        "  ''' Changes the dataframe series name frame59.jpg to test59.jpg'''\n",
        "  changed_arr = []\n",
        "  arr = df_series.to_numpy()\n",
        "  for item in arr:\n",
        "    string = item.split('.')[0][0:5] \n",
        "    list1 = list(string)\n",
        "    list1 = 'test'\n",
        "    string = ''.join(list1)\n",
        "\n",
        "    count = item.split('.')[0][5:]\n",
        "    string2 = string + count + '.jpg'\n",
        "\n",
        "    changed_arr.append(string2)\n",
        "\n",
        "  return changed_arr\n"
      ],
      "execution_count": 0,
      "outputs": []
    }
  ]
}